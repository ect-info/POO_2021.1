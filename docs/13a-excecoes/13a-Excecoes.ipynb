{
 "cells": [
  {
   "cell_type": "markdown",
   "metadata": {},
   "source": [
    "# Aula 13a - Erros e Exceções\n",
    "\n",
    "Este documento mostra como trabalhar com exceções em Python.\n",
    "\n",
    "## 1. Levantando Exceções em Python\n",
    "\n",
    "Comando ```raise```: levanta uma exceção da classe informada\n",
    "\n",
    "A lista de classes de exceções predefinidas em Python está [aqui](https://docs.python.org/3/library/exceptions.html)."
   ]
  },
  {
   "cell_type": "code",
   "execution_count": null,
   "metadata": {},
   "outputs": [],
   "source": [
    "raise TypeError('Erro de atribuição de tipo', 0, (1,2,3))"
   ]
  },
  {
   "cell_type": "markdown",
   "metadata": {},
   "source": [
    "O código a seguir lança exceção quando ocorre divisão por zero."
   ]
  },
  {
   "cell_type": "code",
   "execution_count": null,
   "metadata": {},
   "outputs": [],
   "source": [
    "def inv(n):\n",
    "    '''Função para inverter um número (n não pode ser zero).'''\n",
    "    if n == 0:\n",
    "        raise ZeroDivisionError('Erro de divisão por zero')\n",
    "    else:\n",
    "        return 1 / n\n",
    "\n",
    "print(inv(4))\n",
    "print(inv(0)) # levanta exceção"
   ]
  },
  {
   "cell_type": "markdown",
   "metadata": {},
   "source": [
    "O código a seguir lança exceção quando um depósito é realizado\n",
    "com valor inválido."
   ]
  },
  {
   "cell_type": "code",
   "execution_count": null,
   "metadata": {},
   "outputs": [],
   "source": [
    "class Conta:\n",
    "    def __init__(self):\n",
    "        self.__saldo = 0\n",
    "\n",
    "    def deposito(self, v):\n",
    "        '''Deposito: v > 0'''\n",
    "        if v <= 0:\n",
    "            raise ValueError(\"Valor de depósito não válido\")\n",
    "        else:\n",
    "            self.__saldo += v\n",
    "\n",
    "if __name__ == '__main__':\n",
    "    c = Conta()\n",
    "    c.deposito(3)\n",
    "    c.deposito(5)\n",
    "    c.deposito(0) # ValueError"
   ]
  },
  {
   "cell_type": "markdown",
   "metadata": {},
   "source": [
    "## 2. Tratando Exceções em Python\n",
    "\n",
    "O tratamento de uma exceção é o trecho de código responsável\n",
    "por fazer o programa se recuperar da exceção detectada.\n",
    "\n",
    "Para isto, o bloco de código que pode lançar exceções é colocado\n",
    "dentro da cláusula `try`, enquanto o código responsável por tratar\n",
    "a exceção lançada deve está dentro da cláusula `except`.\n",
    "\n",
    "Se a exceção não for tratada pelo programador, o tratamento padrão da linguagem Python é executado: imprimir a mensagem de erro na tela e encerrar o programa."
   ]
  },
  {
   "cell_type": "code",
   "execution_count": null,
   "metadata": {},
   "outputs": [],
   "source": [
    "class Pessoa:\n",
    "    def __init__(self, nome=''):\n",
    "        self._nome = nome\n",
    "\n",
    "    @property\n",
    "    def nome(self):\n",
    "        return self._nome\n",
    "    \n",
    "    @nome.setter\n",
    "    def nome(self, x):\n",
    "        '''x deve ser do tipo str'''\n",
    "        if type(x) == str:\n",
    "            self._nome = x\n",
    "        else:\n",
    "            #Note a mensagem adicional no construtor da classe TypeError\n",
    "            raise TypeError('Exceçao: x precisa ser do tipo str')\n",
    "\n",
    "if __name__ == \"__main__\":\n",
    "    p = Pessoa()\n",
    "    try:\n",
    "        n = 3\n",
    "        p.nome = n # ira levantar erro, já que n nao e str\n",
    "    except: # cláusula de tratamento de erros:\n",
    "        print('Ocorreu um erro na leitura dos dados') # imprime uma mensagem\n",
    "        print('Atribuindo nome padrão') # atribui um nome padrão para pessoa#\n",
    "        p.nome = 'sem nome'\n",
    "    print(f'Nome: {p.nome}')"
   ]
  },
  {
   "cell_type": "markdown",
   "metadata": {},
   "source": [
    "### 2.1 Tratando Exceções Específicas e Genéricas\n",
    "\n",
    "É possível utilizar várias cláusulas `Except`, sendo uma\n",
    "para cada tipo de exceção que pode ocorrer no código.\n",
    "Entretanto, apenas um `Except` é executado por lançamento\n",
    "de exceção (o que corresponder primeiro ao tipo de exceção\n",
    "lançada). Por isto, exceções mais específicas devem vir antes de exceções mais genéricas.\n",
    "\n",
    "Observe a hierarquia das exceções no código a seguir e perceba\n",
    "que `Exception` (a classe base de exceção) está por último."
   ]
  },
  {
   "cell_type": "code",
   "execution_count": null,
   "metadata": {},
   "outputs": [],
   "source": [
    "class Pessoa:\n",
    "    def __init__(self, nome=''):\n",
    "        self._nome = nome\n",
    "\n",
    "    @property\n",
    "    def nome(self):\n",
    "        return self._nome\n",
    "\n",
    "    @nome.setter\n",
    "    def nome(self, n):\n",
    "        if type(n) == str:\n",
    "            self._nome = n\n",
    "        else:\n",
    "            raise TypeError('Exceçao: n precisa ser do tipo str')\n",
    "\n",
    "if __name__ == \"__main__\":\n",
    "    p = Pessoa()\n",
    "    try:\n",
    "        p.nome = 'roberto'\n",
    "        print(p.numero)\n",
    "        #print(f'Nome: {p.nome}, sobrenome: {p.sobrenome}') # outro erro: atributo inexistente\n",
    "    except AttributeError:\n",
    "        print('Erro acessando atributo inexistente')\n",
    "    except Exception:\n",
    "        print('Erro qualquer')\n",
    "    "
   ]
  },
  {
   "cell_type": "markdown",
   "metadata": {},
   "source": [
    "### 2.2 Except as object\n",
    "\n",
    "É possível capturar uma exceção como um objeto\n",
    "utilizando `as <nome_do_objeto>`.\n",
    "Isto permite acessar informações do erro levantado\n",
    "contidas no objeto, como a seguir."
   ]
  },
  {
   "cell_type": "code",
   "execution_count": null,
   "metadata": {},
   "outputs": [],
   "source": [
    "class Pessoa:\n",
    "\tdef __init__(self, nome=''):\n",
    "\t\tself._nome = nome\n",
    "\n",
    "\t@property\n",
    "\tdef nome(self):\n",
    "\t\treturn self._nome\n",
    "\t\n",
    "\t@nome.setter\n",
    "\tdef nome(self, n):\n",
    "\t\tif type(n) == str:\n",
    "\t\t\tself._nome = n\n",
    "\t\telse:\n",
    "\t\t\traise TypeError('Excecao: n precisa ser do tipo str')\n",
    "\n",
    "if __name__ == \"__main__\":\n",
    "\tp = Pessoa()\n",
    "\ttry:\n",
    "\t\tp.nome = 3\n",
    "\texcept Exception as err: # captura erro como um objeto\n",
    "\t\tprint(err) # imprime informações sobre o objeto exceção"
   ]
  },
  {
   "cell_type": "markdown",
   "metadata": {},
   "source": [
    "### 2.3 Cláusula `else`\n",
    "\n",
    "Em Python, o block `try...except` também pode possuir\n",
    "uma cláusula `else`.\n",
    "O `else` é executado quando não há exceções capturadas.\n",
    "\n",
    "Isto é útil quando um bloco de código deve ser executado\n",
    "quando não houver exceções.\n",
    "Esta cláusula deve vir após o último `except`, como mostrado\n",
    "a seguir."
   ]
  },
  {
   "cell_type": "code",
   "execution_count": null,
   "metadata": {},
   "outputs": [],
   "source": [
    "class Pessoa:\n",
    "\tdef __init__(self, nome=''):\n",
    "\t\tself._nome = nome\n",
    "\n",
    "\t@property\n",
    "\tdef nome(self):\n",
    "\t\treturn self._nome\n",
    "\t\n",
    "\t@nome.setter\n",
    "\tdef nome(self, n):\n",
    "\t\tif type(n) == str:\n",
    "\t\t\tself._nome = n\n",
    "\t\telse:\n",
    "\t\t\traise TypeError('Excecao: n precisa ser do tipo str')\n",
    "\n",
    "if __name__ == \"__main__\":\n",
    "\tp = Pessoa()\n",
    "\ttry:\n",
    "\t\tn = (1,2,3)\n",
    "\t\tp.nome = n\n",
    "\texcept Exception as err:\n",
    "\t\tprint(err)\n",
    "\telse:\n",
    "\t\tprint(f'Nome: {p.nome}') # imprime apenas quando não há exceção\n",
    "\tprint('Fim do programa')\n"
   ]
  },
  {
   "cell_type": "markdown",
   "metadata": {},
   "source": [
    "### 2.4 Cláusula `finally`\n",
    "\n",
    "Python também possui a cláusula `finally`,\n",
    "que deve conter código relacionado ao bloco\n",
    "`try` a ser executado independentemente se\n",
    "houve ou não exceção.\n",
    "\n",
    "Isto é útil para limpar recursos utilizados\n",
    "(ex.: fechar arquivos, encerrar conexões, etc.).\n",
    "\n",
    "Um uso do `finally` é mostrado a seguir."
   ]
  },
  {
   "cell_type": "code",
   "execution_count": null,
   "metadata": {},
   "outputs": [],
   "source": [
    "class Pessoa:\n",
    "\tdef __init__(self, nome=''):\n",
    "\t\tself._nome = nome\n",
    "\n",
    "\t@property\n",
    "\tdef nome(self):\n",
    "\t\treturn self._nome\n",
    "\t\n",
    "\t@nome.setter\n",
    "\tdef nome(self, n):\n",
    "\t\tif type(n) == str:\n",
    "\t\t\tself._nome = n\n",
    "\t\telse:\n",
    "\t\t\traise TypeError('Excecao: n precisa ser do tipo str')\n",
    "\n",
    "if __name__ == \"__main__\":\n",
    "\tp = Pessoa()\n",
    "\ttry:\n",
    "\t\tn = (1,2,3)\n",
    "\t\tp.nome = n\n",
    "\texcept Exception as err:\n",
    "\t\tprint('Erro: {}'.format(err))\n",
    "    else:\n",
    "        print('Nao houve erros')\n",
    "\tfinally:\n",
    "\t\tprint('Executando finally, independentemente de erros')\n",
    "\tprint('Fim do programa')\n"
   ]
  },
  {
   "cell_type": "markdown",
   "metadata": {},
   "source": [
    "### 2.5 `try... except` com `else` e `finally`\n",
    "\n",
    "Em resumo, o funcionamento das cláusulas\n",
    "```try```, ```except```, ```else``` e ```finally```\n",
    "podem ser vistos no exemplo mostrado a seguir."
   ]
  },
  {
   "cell_type": "code",
   "execution_count": null,
   "metadata": {},
   "outputs": [],
   "source": [
    "if __name__ == \"__main__\":\n",
    "    for i in range(3):\n",
    "        try:\n",
    "            d = 10/i\n",
    "        except ZeroDivisionError:\n",
    "            print(f'Divisao por zero para i = {i}')\n",
    "        else:\n",
    "            print(f'Divisao por {i} efetuada sem erros')\n",
    "        finally:\n",
    "            print(f'Fim do try para i = {i}')\n"
   ]
  },
  {
   "cell_type": "markdown",
   "metadata": {},
   "source": [
    "## 3. Relançando Exceções \n",
    "\n",
    "No código a seguir, o operador `+` (`__add__`) captura\n",
    "a excepção quando `outro` não é um complexo e relança a exceção."
   ]
  },
  {
   "cell_type": "code",
   "execution_count": null,
   "metadata": {},
   "outputs": [],
   "source": [
    "class Complexo:\n",
    "\tdef __init__(self, re=0.0, im=0.0):\n",
    "\t\tself.re = re\n",
    "\t\tself.im = im\n",
    "\n",
    "\tdef __repr__(self):\n",
    "\t\ts = ''\n",
    "\t\tif self.im >= 0:\n",
    "\t\t\ts = '{} + {}j'.format(self.re, self.im)\n",
    "\t\telse:\n",
    "\t\t\ts = '{} - {}j'.format(self.re, -self.im)\n",
    "\t\treturn s\n",
    "\n",
    "\tdef __add__(self, outro):\n",
    "\t\ttry:\n",
    "\t\t\tres = Complexo()\n",
    "\t\t\tres.re = self.re + outro.re\n",
    "\t\t\tres.im = self.im + outro.im\n",
    "\t\t\treturn res\n",
    "\t\texcept AttributeError:\n",
    "\t\t\tprint('Exceção: outro deve ser do tipo Complexo')\n",
    "\t\t\traise # relança a exceção -> pode ser tratada em outra parte do programa\n",
    "\n",
    "if __name__ == \"__main__\":\n",
    "\tc1 = Complexo(0.5, 0.3)\n",
    "\tc2 = Complexo(0.1, 0.1)\n",
    "\tprint('C1:')\n",
    "\tprint(c1)\n",
    "\tprint('C2:')\n",
    "\tprint(c2)\n",
    "\tprint(f'C3: {c1+c2}'.format(c1 + c2))\n",
    "\tprint(f'C4: {c1 + 2}')"
   ]
  },
  {
   "cell_type": "markdown",
   "metadata": {},
   "source": [
    "Alternativamente, o método poderia imprimir uma mensagem e retornar o nr. complexo igual a 0\n",
    "\n",
    "```\n",
    "def __add__(self, outro):\n",
    "    try:\n",
    "      res = Complexo()\n",
    "      res.re = self._re + outro.re\n",
    "      res.im = self._im + outro.im\n",
    "      return res\n",
    "    except AttributeError:\n",
    "      print(`Excecao: outro deve ser do tipo Complexo')\n",
    "      print(`Retornando nr. complexo igual a 0')\n",
    "      return Complexo(0, 0)\n",
    "```"
   ]
  },
  {
   "cell_type": "markdown",
   "metadata": {},
   "source": [
    "## 4. Implementando Classes para Exceções\n",
    "\n",
    "Em Python, é fácil definir uma nova classe de exceção\n",
    "que represente uma situação de erro específica a um domínio\n",
    "de problema.\n",
    "\n",
    "Para isto, basta definir uma classe com corpo em branco\n",
    "que herde da classe base `Exception`, como mostrado a seguir."
   ]
  },
  {
   "cell_type": "code",
   "execution_count": null,
   "metadata": {},
   "outputs": [],
   "source": [
    "class MinhaExcecao(Exception):\n",
    "    pass"
   ]
  },
  {
   "cell_type": "markdown",
   "metadata": {},
   "source": [
    "Uma boa prática em Python é definir uma exceção base\n",
    "para o módulo e então fazer as exceções específicas\n",
    "herdarem dela.\n",
    "\n",
    "Ao fazer isto, a classe que denota um tipo específico\n",
    "de exceção do seu programa possui os mesmos atributos\n",
    "de `Exception`."
   ]
  },
  {
   "cell_type": "code",
   "execution_count": null,
   "metadata": {},
   "outputs": [],
   "source": [
    "# Classe exceção base do módulo\n",
    "class ErroBasePessoa(Exception):\n",
    "    pass\n",
    "\n",
    "# Classe exceção específica: erro no nome\n",
    "class ErroNome(ErroBasePessoa):\n",
    "    pass\n",
    "\n",
    "class Pessoa:\n",
    "    def __init__(self, nome=''):\n",
    "        self._nome = nome\n",
    "\n",
    "    @property\n",
    "    def nome(self):\n",
    "        return self._nome\n",
    "    \n",
    "    @nome.setter\n",
    "    def nome(self, x):\n",
    "        if type(x) == str:\n",
    "            self._nome = x\n",
    "        else:\n",
    "            raise ErroNome('Excecao: x precisa ser do tipo str')\n",
    "\n",
    "if __name__ == \"__main__\":\n",
    "    p = Pessoa()\n",
    "    try:\n",
    "        p.nome = (1, 2, 3)\n",
    "        print(f'Nome: {p.nome}')\n",
    "    except ErroNome as err: # captura erro como um objeto\n",
    "        print(err)\n"
   ]
  },
  {
   "cell_type": "markdown",
   "metadata": {},
   "source": [
    "## 5. Extras\n",
    "\n",
    "### 5.1 Passando Parâmetros para o objeto `Exception`\n",
    "\n",
    "A inicialização do objeto `Exception` pode ser feita\n",
    "com quantos parâmetros forem necessários.\n",
    "\n",
    "Os parâmetros passados no inicializador são armazenados\n",
    "no atributo `args` (que tem tipo tupla) do objeto\n",
    "`Exception`.\n",
    "\n",
    "Observe o exemplo a seguir."
   ]
  },
  {
   "cell_type": "code",
   "execution_count": null,
   "metadata": {},
   "outputs": [],
   "source": [
    "E = Exception('parametro0',2,['a','b','c'])\n",
    "print(E.args[2][1])"
   ]
  },
  {
   "cell_type": "markdown",
   "metadata": {},
   "source": [
    "### 5.2 Obtendo Informações da Execução do Programa\n",
    "\n",
    "É possível obter informações da execução do programa\n",
    "dentro de uma cláusula ```except```.\n",
    "Estas informações podem conter, por exemplo, o nome\n",
    "do arquivo e número da linha onde ocorreu a exceção\n",
    "sendo tratada.\n",
    "\n",
    "O exemplo a seguir ilustra esta situação."
   ]
  },
  {
   "cell_type": "code",
   "execution_count": null,
   "metadata": {},
   "outputs": [],
   "source": [
    "import sys, traceback\n",
    "try:\n",
    "    raise Exception()\n",
    "except:\n",
    "    traceback.print_exc()\n",
    "    exc_type, exc_obj, exc_tb = sys.exc_info()\n",
    "    print(f'Erro na linha: {exc_tb.tb_lineno}')"
   ]
  },
  {
   "cell_type": "markdown",
   "metadata": {},
   "source": [
    "## Prática 3.1a - Livros e Biblioteca\n",
    "\n",
    "Um Livro contém como atributos um título, um ano e um código chamado ISBN.\n",
    "Uma biblioteca contém uma lista de livros e um método para cadastrar um livro na lista. Considerando que:\n",
    "\n",
    "- O título de um livro não pode ser a string vazia\n",
    "- O ano de um livro deve estar entre 1400 e 2100\n",
    "- O ISBN de um livro deve conter pelo menos 6 caracteres\n",
    "- O método `cadastra` da biblioteca deve informar erro se\n",
    "  o parâmetro não for um livro\n",
    "- Dois livros diferentes não podem conter o mesmo ISBN.\n",
    "  Note que dois livros com anos diferentes de mesmo título\n",
    "  são considerados livros diferentes.\n",
    "- A biblioteca não pode armazenar um mesmo livro mais de uma vez.\n",
    "\n",
    "Implemente o sistema, com lançamento de exceções nos casos indicados.\n",
    "Para isto, defina uma classe exceção base para o módulo e uma classe exceção derivada da exceção base para cada situação de erro prevista.\n",
    "Então, implemente getters/setters (com `property`) de forma que as checagens sejam realizadas em cada `set`.\n",
    "\n",
    "O bloco `__main__` do programa deve instanciar livros e uma biblioteca. Na instanciação dos livros, as exceções devem ser\n",
    "tratadas pedindo ao usuário que insira novamente os dados\n",
    "com problemas (comando `input`):"
   ]
  },
  {
   "cell_type": "code",
   "execution_count": null,
   "metadata": {},
   "outputs": [],
   "source": [
    "# dentro de um bloco try na __main__\n",
    "l1 = Livro()\n",
    "l1.titulo = ''"
   ]
  },
  {
   "cell_type": "markdown",
   "metadata": {},
   "source": [
    "Para uma exceção de livro com título vazio,\n",
    "as seguintes mensagens deverão ser impressas,\n",
    "com o usuário inserindo um título válido em seguida:\n",
    "\n",
    "```\n",
    ">ExcecaoTituloLivro: Título do livro deve ser uma string não vazia\n",
    ">Insira um novo título para o livro:\n",
    "```"
   ]
  }
 ],
 "metadata": {
  "kernelspec": {
   "display_name": "Python 3",
   "language": "python",
   "name": "python3"
  },
  "language_info": {
   "codemirror_mode": {
    "name": "ipython",
    "version": 3
   },
   "file_extension": ".py",
   "mimetype": "text/x-python",
   "name": "python",
   "nbconvert_exporter": "python",
   "pygments_lexer": "ipython3",
   "version": "3.8.5"
  }
 },
 "nbformat": 4,
 "nbformat_minor": 2
}
