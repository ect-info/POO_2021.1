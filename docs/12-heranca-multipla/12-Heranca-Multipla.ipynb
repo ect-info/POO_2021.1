{
 "cells": [
  {
   "cell_type": "markdown",
   "metadata": {},
   "source": [
    "# Aula 12 - Herança Múltipla\n",
    "\n",
    "Este documento apresenta como Python trabalha com herança múltipla."
   ]
  },
  {
   "cell_type": "markdown",
   "metadata": {},
   "source": [
    "## Exemplo 1: Herança sem Ambiguidade\n",
    "\n",
    "O código a seguir apresenta uma classe que possui duas classes base. O código funciona como esperado, já que as classes base não possuem ambiguidade, isto é os seus métodos e atributos não possuem o mesmo nome."
   ]
  },
  {
   "cell_type": "code",
   "execution_count": null,
   "metadata": {},
   "outputs": [],
   "source": [
    "class Superclasse1:\n",
    "    def __init__(self, valor):\n",
    "        self.atrib_super1 = valor\n",
    "\n",
    "    def metodo_super1(self):\n",
    "        print('Metodo super1')\n",
    "\n",
    "class Superclasse2:\n",
    "    def __init__(self, valor):\n",
    "        self.atrib_super2 = valor\n",
    "\n",
    "    def metodo_super2(self):\n",
    "        print('Metodo super2')\n",
    "\n",
    "class Subclasse(Superclasse1, Superclasse2):\n",
    "    def __init__(self, valor):\n",
    "        Superclasse1.__init__(self, 0) # atribui 0 a atrib_super1\n",
    "        Superclasse2.__init__(self, 1) # atribui 1 a atrib_super2\n",
    "        self.atrib_sub = valor\n",
    "\n",
    "    def metodo_sub(self):\n",
    "        print('Metodo sub')\n",
    "\n",
    "if __name__ == \"__main__\":\n",
    "    obj = Subclasse(50)\n",
    "    print(obj.atrib_super1)\n",
    "    print(obj.atrib_super2)\n",
    "    print(obj.atrib_sub)\n",
    "    obj.metodo_super1()\n",
    "    obj.metodo_super2()\n",
    "    obj.metodo_sub()"
   ]
  },
  {
   "cell_type": "markdown",
   "metadata": {},
   "source": [
    "## Exemplo 2 : Herança com Atributos e Métodos com Mesmo Nome\n",
    "\n",
    "O código a seguir possui uma classe derivada que herda de duas classes base com métodos e atributos em comum. Observe quais dos atributos/métodos das classes base são herdados pela classe derivada."
   ]
  },
  {
   "cell_type": "code",
   "execution_count": null,
   "metadata": {},
   "outputs": [],
   "source": [
    "class Superclasse1:\n",
    "    def __init__(self, valor):\n",
    "        print('Inicializador de super1')\n",
    "        self.atrib_super = valor\n",
    "\n",
    "    def metodo_super(self):\n",
    "        print('Metodo super de Superclasse1')\n",
    "\n",
    "class Superclasse2:\n",
    "    def __init__(self, valor):\n",
    "        print('Inicializador de super2')\n",
    "        self.atrib_super = valor\n",
    "\n",
    "    def metodo_super(self):\n",
    "        print('Metodo super de Superclasse2')\n",
    "\n",
    "class Subclasse(Superclasse2, Superclasse1):\n",
    "    def __init__(self, valor):\n",
    "        Superclasse2.__init__(self, 1) # atribui 1 a atrib_super de Super2\n",
    "        Superclasse1.__init__(self, 0) # atribui 0 a atrib_super de Super1\n",
    "        self.atrib_sub = valor\n",
    "\n",
    "    def metodo_sub(self):\n",
    "        print('Metodo sub')\n",
    "\n",
    "if __name__ == \"__main__\":\n",
    "    obj = Subclasse(50)\n",
    "    print(obj.atrib_super) # qual atrib_super e utilizado?\n",
    "    obj.metodo_super() # qual metodo_super e chamado?"
   ]
  },
  {
   "cell_type": "markdown",
   "metadata": {},
   "source": [
    "Note que  as classes ```Superclasse1``` e ```Superclasse2``` possuem\n",
    "um atributo e um método com o mesmo nome:\n",
    "\n",
    "- O método herdado pela ```Subclasse``` depende da ordem indicada\n",
    "  na tupla de classes base:\n",
    "    - A linguagem Python considera a primeira superclasse da esquerda para a direita\n",
    "    - A implementação do método que for achada primeiro é utilizada\n",
    "    - Caso uma implementação do método não seja achada em nenhuma das classes base, a busca é realizada recursivamente nas classes base das classes base\n",
    "    - **Para saber a ordem de busca das classes:** utilize o método de classe `mro` (*method resolution order*) presente em todas as classes Python\n",
    "- Em relação aos atributos:\n",
    "    - Como o `__init__` de cada superclasse foi chamado no \n",
    "      `__init__` da subclasse, o atributo considerado é o último\n",
    "      encontrado (e não o primeiro)\n",
    "    - Cada chamada de `__init__` sobrescreve a declaração\n",
    "      anterior\n",
    "    - Portanto, o que vale é o último que sobrescreve"
   ]
  },
  {
   "cell_type": "markdown",
   "metadata": {},
   "source": [
    "### Possível problema com atributos com nomes comuns\n",
    "\n",
    "O código a seguir possui duas classes base que possuem um atributo com mesmo nome `x`. Observe o que pode acontecer neste caso."
   ]
  },
  {
   "cell_type": "code",
   "execution_count": null,
   "metadata": {},
   "outputs": [],
   "source": [
    "class A:\n",
    "    def __init__(self): \n",
    "        self.x = 0\n",
    "\n",
    "    def m1(self): \n",
    "        return self.x + 1\n",
    "\n",
    "class B:\n",
    "    def __init__(self): \n",
    "        self.x = []\n",
    "\n",
    "class C(A,B):\n",
    "    def __init__(self):\n",
    "        A.__init__(self)\n",
    "        B.__init__(self)\n",
    "\n",
    "if __name__ == '__main__':\n",
    "    c = C()\n",
    "    print(c.m1()) # Funciona ? Qual é o problema?\n",
    "    #print(C.mro()) # Imprime a ordem das classes buscadas para métodos da classe C"
   ]
  },
  {
   "cell_type": "markdown",
   "metadata": {},
   "source": [
    "## Exemplo 3: O problema do Diamante \n",
    "\n",
    "Ao utilizar herança múltipla, problemas podem ocorrer com hierarquias em formato de diamante, como mostrado na figura a seguir.\n",
    "\n",
    "![Diamante](https://raw.githubusercontent.com/ect-info/POO_2021.1/master/docs/12-heranca-multipla/diamante.png)\n",
    "\n",
    "Especificamente, considere os casos listados a seguir.\n",
    "\n",
    "### 1. Todas as classes implementam `metodo`\n",
    "\n",
    "Qual versão de `metodo` será chamada para objetos da classe `D`?"
   ]
  },
  {
   "cell_type": "code",
   "execution_count": null,
   "metadata": {},
   "outputs": [],
   "source": [
    "class A:\n",
    "    def metodo(self):\n",
    "        print('Metodo de A')\n",
    "\n",
    "class B(A):\n",
    "    def metodo(self):\n",
    "        print('Metodo de B')\n",
    "\n",
    "class C(A):\n",
    "    def metodo(self):\n",
    "        print('Metodo de C')\n",
    "\n",
    "class D(B,C):\n",
    "    def metodo(self):\n",
    "        print('Metodo de D')\n",
    "\n",
    "if __name__ == \"__main__\":\n",
    "    a = A()\n",
    "    b = B()\n",
    "    c = C()\n",
    "    d = D()\n",
    "\n",
    "    a.metodo()\n",
    "    b.metodo()\n",
    "    c.metodo()\n",
    "    d.metodo()"
   ]
  },
  {
   "cell_type": "markdown",
   "metadata": {},
   "source": [
    "### 2. `D` apenas herda `metodo` (`metodo` não é sobrescrito)\n",
    "   \n",
    "Qual versão de `metodo` será chamada para objetos da classe `D`?"
   ]
  },
  {
   "cell_type": "code",
   "execution_count": null,
   "metadata": {},
   "outputs": [],
   "source": [
    "class A:\n",
    "    def metodo(self):\n",
    "        print('Metodo de A')\n",
    "\n",
    "class B(A):\n",
    "    def metodo(self):\n",
    "        print('Metodo de B')\n",
    "\n",
    "class C(A):\n",
    "    def metodo(self):\n",
    "        print('Metodo de C')\n",
    "\n",
    "class D(B,C):\n",
    "    pass\n",
    "\n",
    "if __name__ == \"__main__\":\n",
    "    a = A()\n",
    "    b = B()\n",
    "    c = C()\n",
    "    d = D()\n",
    "\n",
    "    a.metodo()\n",
    "    b.metodo()\n",
    "    c.metodo()\n",
    "    d.metodo()"
   ]
  },
  {
   "cell_type": "markdown",
   "metadata": {},
   "source": [
    "### 3. Tanto `D` quanto `B` apenas herda `metodo`\n",
    "\n",
    "Qual versão de `metodo` será chamada para objetos da classe `D`?"
   ]
  },
  {
   "cell_type": "code",
   "execution_count": null,
   "metadata": {},
   "outputs": [],
   "source": [
    "class A:\n",
    "    def metodo(self):\n",
    "        print('Metodo de A')\n",
    "\n",
    "class B(A):\n",
    "    pass\n",
    "\n",
    "class C(A):\n",
    "    def metodo(self):\n",
    "        print('Metodo de C')\n",
    "\n",
    "class D(B,C):\n",
    "    pass\n",
    "\n",
    "if __name__ == \"__main__\":\n",
    "    a = A()\n",
    "    b = B()\n",
    "    c = C()\n",
    "    d = D()\n",
    "\n",
    "    a.metodo()\n",
    "    b.metodo()\n",
    "    c.metodo()\n",
    "    d.metodo()"
   ]
  },
  {
   "cell_type": "markdown",
   "metadata": {},
   "source": [
    "Observe que no caso anterior, ao invés de `c.metodo()` realizar uma chamada ao `metodo` da classe `A` (que é imediatamente a sua superclasse), `c.metodo()` realiza uma chamada ao `metodo` da classe `B`.\n",
    "\n",
    "A linguagem Python trabalha desta forma no que se chama de *herança múltipla cooperativa*. Assim, em hierarquias mais complexas, é garantido que a implementação de `metodo` \"mais próxima\" da classe original seja chamada, ao invés da implementação \"mais ancestral\".\n",
    "\n",
    "Para mais informações sobre herança múltipla cooperativa em Python, veja este [artigo](https://www.artima.com/weblogs/viewpost.jsp?thread=281127)."
   ]
  },
  {
   "cell_type": "markdown",
   "metadata": {},
   "source": [
    "### Chamando métodos comuns de uma hierarquia em uma determinada ordem\n",
    "\n",
    "Observe o código a seguir e perceba como o uso de `super` pode ser útil para implementar um encadeamento de chamada de métodos em uma determinada ordem."
   ]
  },
  {
   "cell_type": "code",
   "execution_count": null,
   "metadata": {},
   "outputs": [],
   "source": [
    "class A:\n",
    "    def metodo(self):\n",
    "        print('Metodo de A')\n",
    "\n",
    "class B(A):\n",
    "    def metodo(self):\n",
    "        super().metodo() # irá chamar c.metodo()\n",
    "        print('Metodo de B')\n",
    "\n",
    "class C(A):\n",
    "    def metodo(self):\n",
    "        super().metodo() # irá chamar a.metodo()\n",
    "        print('Metodo de C')\n",
    "\n",
    "class D(C,B):\n",
    "    def metodo(self):\n",
    "        super().metodo() # irá chamar b.metodo()\n",
    "        print('Metodo de D')\n",
    "\n",
    "if __name__ == \"__main__\":\n",
    "    d = D()\n",
    "    d.metodo() # apenas uma chamada -> encadeia chamadas ao mesmo método de toda a hierarquia"
   ]
  },
  {
   "cell_type": "markdown",
   "metadata": {},
   "source": [
    "## Prática 2.4 - Processador de Texto\n",
    "\n",
    "Implemente o sistema orientado a objetos exibido no diagrama de classe a seguir. Este sistema serve para processar textos, exibindo diferentes funcionalidades como contar quantas vezes ocorre cada palavra ou traduzir palavras do português para inglês (ignore a forma rudimentar :) )\n",
    "\n",
    "![Diagrama de classes](https://raw.githubusercontent.com/ect-info/POO_2021.1/master/docs/12-heranca-multipla/pratica_heranca_multipla.png)\n",
    "\n",
    "Na sua implementação, considere o seguinte:\n",
    "\n",
    "- É obrigatório manter a interface pública de cada classe como indicada no diagrama de classes\n",
    "- Cada classe deve pode ser instanciada e funcionar por si só\n",
    "- Implemente métodos (não publicos) auxiliares, caso deseje\n",
    "- Os atributos presentes no diagrama servem apenas como implementação de referência. Você está livre implementar cada classe como achar mais conveniente, desde que ela faça o que se pede:\n",
    "    - Classe `PreProcessador`: o método `processa` deve transformar um texto em uma lista de palavras. Na implementação de referência, o resultado é armazenado no atributo `lista_palavras`\n",
    "    - Classe `ContadorPalavras`: o método `processa` deve contar quantas vezes cada palavra ocorre em uma lista. Na implementação de referência, o resultado é armazenado no atributo `ocorrencias`\n",
    "    - Classe `Tradutor`: o método `processa` deve traduzir palavras contidas em uma lista para inglês. Na implementação de referência, as traducoes estão no atributo `traducoes` e o resultado é armazenado no atributo `lista_palavras_trad`\n",
    "    - Classe `ProcessadorTexto`: o método `processa` deve, utilizando as classes `ContadorPalavras` e `Tradutor` exibir uma tradução rudimentar do texto original em inglês em uma única string e a frequência das palavras do texto de entrada\n",
    "    \n",
    "Utilize o código a seguir para testar a sua implementação."
   ]
  },
  {
   "cell_type": "code",
   "execution_count": null,
   "metadata": {},
   "outputs": [],
   "source": [
    "if __name__ == '__main__':\n",
    "    # Descomente a seguir para testar apenas a classe PreProcessador\n",
    "    # preprocessador = PreProcessador('OLá! Este é um exemplo de texto com termos repetidos.'\n",
    "    #                                 ' Este texto possui vários termos repetidos:'\n",
    "    #                                 ' este, Este, ESte, esTE!')\n",
    "    # preprocessador.processa()\n",
    "    # print(preprocessador)\n",
    "    \n",
    "    # Descomente a seguir para testar apenas a classe ContadorPalavras\n",
    "    # contador = ContadorPalavras('OLá! Este é um exemplo de texto com termos repetidos.'\n",
    "    #                             ' Este texto possui vários termos repetidos:'\n",
    "    #                             ' este, Este, ESte, esTE!')\n",
    "    # contador.processa()\n",
    "    # print(contador)\n",
    "\n",
    "    # Descomente a seguir para testar apenas a classe Tradutor\n",
    "    # tradutor = Tradutor('OLá! Este é um exemplo de texto com termos repetidos.'\n",
    "    #                     ' Este texto possui vários termos repetidos:'\n",
    "    #                     ' este, Este, ESte, esTE!')\n",
    "    # tradutor.processa()\n",
    "    # print(tradutor)\n",
    "\n",
    "    processadortexto = ProcessadorTexto('OLá! Este é um exemplo de texto com termos repetidos.'\n",
    "                                        ' Este texto possui vários termos repetidos:'\n",
    "                                        ' este, Este, ESte, esTE!')\n",
    "    processadortexto.processa()"
   ]
  },
  {
   "cell_type": "markdown",
   "metadata": {},
   "source": [
    "Saída esperada:\n",
    "\n",
    "```\n",
    "Frequencia das palavras:\n",
    "olá: 1 vezes\n",
    "este: 6 vezes\n",
    "é: 1 vezes\n",
    "um: 1 vezes\n",
    "exemplo: 1 vezes\n",
    "de: 1 vezes\n",
    "texto: 2 vezes\n",
    "com: 1 vezes\n",
    "termos: 2 vezes\n",
    "repetidos: 2 vezes\n",
    "possui: 1 vezes\n",
    "vários: 1 vezes\n",
    "\n",
    "Tradução robótica:\n",
    "hello this is a example of text with terms repeated this text has various terms repeated this this this this\n",
    "```"
   ]
  }
 ],
 "metadata": {
  "kernelspec": {
   "display_name": "Python 3",
   "language": "python",
   "name": "python3"
  },
  "language_info": {
   "codemirror_mode": {
    "name": "ipython",
    "version": 3
   },
   "file_extension": ".py",
   "mimetype": "text/x-python",
   "name": "python",
   "nbconvert_exporter": "python",
   "pygments_lexer": "ipython3",
   "version": "3.8.5"
  }
 },
 "nbformat": 4,
 "nbformat_minor": 4
}
