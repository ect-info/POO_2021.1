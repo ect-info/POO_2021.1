{
 "cells": [
  {
   "cell_type": "markdown",
   "metadata": {},
   "source": [
    "# POO - Projeto Final - Parte 1\n",
    "\n",
    "Primeiramente, este documento apresenta o que é proposto\n",
    "no projeto final da disciplina.\n",
    "\n",
    "Em seguida, é apresentado como se trabalhar com\n",
    "a biblioteca `Pandas`, que será essencial\n",
    "na implementação proposta.\n",
    "\n",
    "As classes a serem implementadas são mostradas\n",
    "na última seção deste documento.\n",
    "\n",
    "Para elaboração deste roteiro, os seguintes links\n",
    "foram utilizados como referências:\n",
    "\n",
    "- [Kaggle - YouTube Trending Video Dataset (updated daily)](https://www.kaggle.com/rsrishav/youtube-trending-video-dataset)\n",
    "- [Pandas tutorial and cheat sheet](https://www.kaggle.com/yogidsba/pandas-tutorial-and-cheat-sheet)"
   ]
  },
  {
   "cell_type": "markdown",
   "metadata": {},
   "source": [
    "## 1. Projeto Final - Visualização de Dados de Vídeos do Youtube\n",
    "\n",
    "O projeto final da disciplina tem como objetivo visualizar dados relativos aos vídeos do Youtube que foram tendência (*trending videos*) no Brasil em um determinado período.\n",
    "\n",
    "Especificamente, você deve implementar uma aplicação com interface gráfica Tkinter em Python com as funcionalidades\n",
    "a seguir.\n",
    "\n",
    "Exibir em tabela:\n",
    "- O total de vídeos no conjunto de dados\n",
    "- Todos os dados de $$n$$ vídeos\n",
    "- Todos os canais que possuem vídeos no conjunto de dados\n",
    "- Todas as categorias dos vídeos no conjunto de dados\n",
    "- Os vídeos ordenados por likes, comentários, etc.\n",
    "\n",
    "Permitir:\n",
    "- Exibir os vídeos de um canal\n",
    "- Exibir os vídeos de uma categoria\n",
    "- Buscar vídeos por título\n",
    "- Buscar vídeos por período\n",
    "\n",
    "Exibir gráficos contendo:\n",
    "- Canais com mais views (gráfico de barras)\n",
    "- Vídeos com mais views (gráfico de barras)\n",
    "- Relação entre views/comentários (scatter)\n",
    "- Relação entre views/likes (scatter)\n",
    "\n",
    "Links dos arquivos:\n",
    "\n",
    "- Arquivos de testes (cada um contém 20 vídeos selecionados aleatoriamente):\n",
    "    - [BR_youtube_trending_data_p1.csv](https://raw.githubusercontent.com/ect-info/POO_2021.1/master/docs/15-projeto_final1/BR_youtube_trending_data_p1.csv)\n",
    "    - [BR_youtube_trending_data_p2.csv](https://raw.githubusercontent.com/ect-info/POO_2021.1/master/docs/15-projeto_final1/BR_youtube_trending_data_p2.csv)\n",
    "    - [BR_youtube_trending_data_p3.csv](https://raw.githubusercontent.com/ect-info/POO_2021.1/master/docs/15-projeto_final1/BR_youtube_trending_data_p3.csv)\n",
    "    \n",
    "- Arquivo completo (contém muitos dados e dificulta a depuração, utilize-o na versão final do seu programa)\n",
    "    - [BR_youtube_trending_data_completo.csv](https://raw.githubusercontent.com/ect-info/POO_2021.1/master/docs/15-projeto_final1/BR_youtube_trending_data_completo.csv)"
   ]
  },
  {
   "cell_type": "markdown",
   "metadata": {},
   "source": [
    "## 2. Utilização da Biblioteca Pandas\n",
    "\n",
    "A biblioteca Pandas constitui hoje uma das principais ferramentas utilizadas na área de Ciências de Dados.\n",
    "\n",
    "A principal classe da biblioteca é a classe `Dataframe`.\n",
    "Um `Dataframe` é uma classe que representa um conjunto de dados de forma tabular.\n",
    "\n",
    "A classe `Dataframe` possui funcionalidades para, dentre outras coisas, carregar dados de arquivos no disco, visualizar gráficos/estatísticas relacinados aos dados e realizar buscas seguindo critérios específicos. Esta última funcionalidade será a principal a ser utilizada na primeira parte do projeto.\n",
    "\n",
    "Observe a seguir os comandos que você deverá utilizar na implementação das classes a serem implementadas para conceber a aplicação."
   ]
  },
  {
   "cell_type": "markdown",
   "metadata": {},
   "source": [
    "### 2.1 Abrindo Conjunto de Dados"
   ]
  },
  {
   "cell_type": "code",
   "execution_count": null,
   "metadata": {},
   "outputs": [],
   "source": [
    "import pandas as pd\n",
    "\n",
    "df = pd.read_csv('BR_youtube_trending_data_p1.csv')\n",
    "print(f'Período: {df.dt_publicacao.min()} até {df.dt_publicacao.max()}')"
   ]
  },
  {
   "cell_type": "markdown",
   "metadata": {},
   "source": [
    "### 2.2 Obtendo Informações e Exibindo um `Dataframe`"
   ]
  },
  {
   "cell_type": "code",
   "execution_count": null,
   "metadata": {},
   "outputs": [],
   "source": [
    "df.info() # mostra a tabela e informações nela contidas"
   ]
  },
  {
   "cell_type": "code",
   "execution_count": null,
   "metadata": {},
   "outputs": [],
   "source": [
    "#df.head() # mostra primeiros 5\n",
    "#df.tail() # mostra últimos 5\n",
    "display(df)"
   ]
  },
  {
   "cell_type": "markdown",
   "metadata": {},
   "source": [
    "### 2.3 Realizando buscas em um `Dataframe`\n",
    "\n",
    "Resumidamente, podemos dizer que um `Dataframe`\n",
    "retorna um `Dataframe` resultado de uma busca\n",
    "realizada com uma expressão/execução de um método\n",
    "similar a uma chave de um dicionário Python.\n",
    "\n",
    "Observe os exemplos a seguir."
   ]
  },
  {
   "cell_type": "markdown",
   "metadata": {},
   "source": [
    "#### 2.3.1 Busca por String Exata"
   ]
  },
  {
   "cell_type": "code",
   "execution_count": null,
   "metadata": {},
   "outputs": [],
   "source": [
    "# Retorna um dataframe contendo todos os vídeos\n",
    "# cuja categoria seja igual à string s\n",
    "\n",
    "# As categorias do Youtube são tabeladas e neste\n",
    "# dataset, segue o dicionário a seguir\n",
    "categ = {'29': 'Nonprofits & Activism',\n",
    "         '1': 'Film & Animation', \n",
    "         '2': 'Autos & Vehicles', \n",
    "         '10': 'Music', \n",
    "         '15': 'Pets & Animals', \n",
    "         '17': 'Sports', \n",
    "         '18': 'Short Movies', \n",
    "         '19': 'Travel & Events', \n",
    "         '20': 'Gaming', \n",
    "         '21': 'Videoblogging', \n",
    "         '22': 'People & Blogs', \n",
    "         '23': 'Comedy', \n",
    "         '24': 'Entertainment', \n",
    "         '25': 'News & Politics', \n",
    "         '26': 'Howto & Style', \n",
    "         '27': 'Education', \n",
    "         '28': 'Science & Technology', \n",
    "         '30': 'Movies', \n",
    "         '31': 'Anime/Animation', \n",
    "         '32': 'Action/Adventure', \n",
    "         '33': 'Classics', \n",
    "         '34': 'Comedy', \n",
    "         '35': 'Documentary', \n",
    "         '36': 'Drama', \n",
    "         '37': 'Family', \n",
    "         '38': 'Foreign', \n",
    "         '39': 'Horror', \n",
    "         '40': 'Sci-Fi/Fantasy', \n",
    "         '41': 'Thriller', \n",
    "         '42': 'Shorts', \n",
    "         '43': 'Shows', \n",
    "         '44': 'Trailers'}\n",
    "\n",
    "s = categ['10']\n",
    "#print(type(df[df.categoria == s]))\n",
    "df[df.categoria == s]"
   ]
  },
  {
   "cell_type": "markdown",
   "metadata": {},
   "source": [
    "#### 2.3.2 Busca por Parte de uma String"
   ]
  },
  {
   "cell_type": "code",
   "execution_count": null,
   "metadata": {},
   "outputs": [],
   "source": [
    "# Retorna um dataframe contendo todos os vídeos\n",
    "# cujo título contenha a string s\n",
    "\n",
    "s = 'fal'\n",
    "df[df.titulo.str.contains(s, case=False)] #ignora minusc/maiusc"
   ]
  },
  {
   "cell_type": "markdown",
   "metadata": {},
   "source": [
    "#### 2.3.3 Busca por Data"
   ]
  },
  {
   "cell_type": "code",
   "execution_count": null,
   "metadata": {},
   "outputs": [],
   "source": [
    "## altera tipo da coluna 'dt_publicacao'\n",
    "df.dt_publicacao = pd.to_datetime(df.dt_publicacao)\n",
    "df.dt_trending = pd.to_datetime(df.dt_trending)\n",
    "\n",
    "# Retorna um dataframe contendo todos os vídeos\n",
    "# no período que envolve a data 'ini' e data 'fim'\n",
    "\n",
    "ini = '2020-11-01'\n",
    "fim = '2020-11-30'\n",
    "masc = (df.dt_publicacao.dt.date >= pd.to_datetime(ini)) & (df.dt_publicacao.dt.date <= pd.to_datetime(fim))\n",
    "\n",
    "# masc é uma expressão que gera um 'vetor' de True/False; este vetor é então utilizado para retornar o dataframe resultante\n",
    "df[masc]"
   ]
  },
  {
   "cell_type": "markdown",
   "metadata": {},
   "source": [
    "### 2.4 Obtendo Dados a Partir de um `Dataframe`\n",
    "\n",
    "As buscas mostradas retornam um objeto `Dataframe` como resultado. Ainda é necessário, portanto, obter os dados\n",
    "contidos no `Dataframe` para utilizá-los no restante da aplicação.\n",
    "\n",
    "Utilize o código a seguir*, possivelmente como método privado da classe proposta no fim deste documento, de forma que o `Dataframe` resultante é convertido em uma lista de tuplas.\n",
    "Cada tupla contém 12 informações, sendo elas os dados dos vídeos do Youtube.\n",
    "\n",
    "*terá o melhor tempo de execução quando `Dataframes` grandes forem utilizados"
   ]
  },
  {
   "cell_type": "code",
   "execution_count": null,
   "metadata": {},
   "outputs": [],
   "source": [
    "s = 'fal'\n",
    "df[df.titulo.str.contains(s, case=False)]\n",
    "\n",
    "# res = [tup for tup in zip(df.id_video, df.titulo,\n",
    "#                           df.dt_publicacao, df.id_canal,\n",
    "#                           df.canal, df.dt_trending,\n",
    "#                           df.cont_views, df.likes,\n",
    "#                           df.dislikes, df.cont_comentarios,\n",
    "#                           df.descricao, df.categoria)]\n",
    "\n",
    "#print(res) # lista de tuplas\n",
    "\n",
    "# Versão menos poluída, para uma melhor compreensão;\n",
    "# cada tupla contém 4 campos\n",
    "res = [tup for tup in zip(df.titulo,\n",
    "                          df.canal,\n",
    "                          df.cont_views,\n",
    "                          df.categoria)]\n",
    "\n",
    "for i, tup in enumerate(res):\n",
    "    print(f'Tupla[{i}]:')\n",
    "    for c in tup:\n",
    "        print(f'\\t{c}')\n",
    "    print('')"
   ]
  },
  {
   "cell_type": "markdown",
   "metadata": {},
   "source": [
    "## 3. Implementação Parte 1: Classes do Modelo da Aplicação\n",
    "\n",
    "A camada de Modelo da aplicação proposta possui, a princípio, duas classes. Elas são descritas a seguir."
   ]
  },
  {
   "cell_type": "markdown",
   "metadata": {},
   "source": [
    "### 3.1 Classe `Video`\n",
    "\n",
    "Contém todas as informações coletadas nos conjuntos de dados que dizem respeito a um vídeo do Youtube. São elas:\n",
    "\n",
    "- Uma string única que identifica o vídeo\n",
    "- O título\n",
    "- A data de publicação\n",
    "- Uma string única que identifica o canal\n",
    "- A data em que o vídeo foi tendência\n",
    "- A quantidade de visualizações (*views*)\n",
    "- A quantidade de likes\n",
    "- A quantidade de dislikes\n",
    "- A quantidade de comentários\n",
    "- A descrição do vídeo\n",
    "- A categoria do vídeo (em Inglês)\n",
    "\n",
    "Todas estas informações devem ser atributos de instância da classe `Video`. Recomenda-se utilizar os mesmos nomes dos atributos contidos no `Dataframe` Pandas (`id_video`, `titulo`, `dt_publicacao`, etc).\n",
    "\n",
    "Como métodos, a classe deve possuir um inicializador que possibilite instanciar um objeto `Video` a partir de uma tupla com os 12 campos de um `Video`.\n",
    "\n",
    "Implemente também os métodos `__str__` (e/ou `__repr__`)."
   ]
  },
  {
   "cell_type": "markdown",
   "metadata": {},
   "source": [
    "### 3.2 Classe `BaseDeDados`\n",
    "\n",
    "Contém um `Dataframe` Pandas encapsulado como o seu atributo de instância. Com isto, um objeto da classe é capaz de realizar buscas e retornar listas de objetos da classe `Video` que possuam campos específicos.\n",
    "\n",
    "Como métodos da interface pública, a classe deve possibilitar:\n",
    "- Inicializar o objeto a partir do nome de um arquivo .csv\n",
    "- Listar as categorias de vídeos presentes no `Dataframe`\n",
    "  (método já implementado)\n",
    "- Retornar listas de instâncias da classe `Video` resultantes de:\n",
    "    - Busca por título do vídeo\n",
    "    - Busca por nome do canal do vídeo\n",
    "    - Busca por categoria do vídeo\n",
    "    - Busca por período (data de início e data de fim) em que o vídeo foi publicado"
   ]
  },
  {
   "cell_type": "code",
   "execution_count": null,
   "metadata": {},
   "outputs": [],
   "source": [
    "import pandas as pd\n",
    "\n",
    "class Video:\n",
    "    '''\n",
    "    Representa um vídeo do Youtube.\n",
    "    '''\n",
    "    \n",
    "    pass\n",
    "\n",
    "class BaseDeDados:\n",
    "    '''\n",
    "    Representa uma Base de Dados,\n",
    "    responsável por prover dados de consulta\n",
    "    em um arquivo Pandas.Dataframe.\n",
    "    '''\n",
    "    \n",
    "    def __init__(self, nome_arq):\n",
    "        '''\n",
    "        Inicializa uma base de dados\n",
    "        com o nome do arquivo (.csv)\n",
    "        '''\n",
    "        ## abre o dataframe e o atribui a um atributo de instância\n",
    "        \n",
    "        ## VEJA SEÇÃO 2.3.3 altera tipo das colunas data\n",
    "        \n",
    "        ## SUBSTITUA df ABAIXO pelo atributo de instância\n",
    "        ## correspondente ao dataframe\n",
    "        print(f'Arquivo: {nome_arq}')\n",
    "        print(f'Possui dados dos vídeos em tendência no Youtube BR')\n",
    "        print(f'Total de vídeos: {len(df)}')\n",
    "        print(f'Período: {df.dt_publicacao.min()} até {df.dt_publicacao.max()}')\n",
    "        print(f'Dados dos vídeos:')\n",
    "        for c in df.columns.to_list():\n",
    "            print(c, end=', ')\n",
    "    \n",
    "    def _df_para_lista(self, df):\n",
    "        '''\n",
    "        Converte Pandas.Dataframe em uma lista\n",
    "        de tuplas (implementação com tempo de\n",
    "        execução reduzido).\n",
    "        Cada tupla na lista contém todos os\n",
    "        dados de um vídeo:\n",
    "        (id_video, titulo, dt_publicacao, ...\n",
    "         categoria)\n",
    "        '''\n",
    "        \n",
    "        pass\n",
    "    \n",
    "    def lista_categorias(self):\n",
    "        '''\n",
    "        Retorna lista contendo todas as categorias\n",
    "        presentes no dataframe.\n",
    "        '''\n",
    "        \n",
    "        ## SUBSTITUA df ABAIXO pelo atributo de instância\n",
    "        ## correspondente ao dataframe\n",
    "        return list(df.categoria.unique())\n",
    "        \n",
    "if __name__ == '__main__':\n",
    "    ld = BaseDeDados('BR_youtube_trending_data_p1.csv')\n",
    "    #print(ld.lista_categorias())\n",
    "    #res = ld.busca_por_titulo('fla')\n",
    "    #res = ld.busca_por_canal('espor')\n",
    "    #res = ld.busca_por_categoria('SPORTS')\n",
    "    res = ld.busca_por_periodo('2020-11-01', '2020-11-30')\n",
    "    \n",
    "    print('\\n\\n\\n')\n",
    "    for v in res:\n",
    "      print(v)"
   ]
  },
  {
   "cell_type": "markdown",
   "metadata": {},
   "source": [
    "#### Resultado da Execução\n",
    "\n",
    "```\n",
    "Arquivo: BR_youtube_trending_data_p1.csv\n",
    "Possui dados dos vídeos em tendência no Youtube BR\n",
    "Total de vídeos: 20\n",
    "Período: 2020-08-12 15:05:59+00:00 até 2021-08-06 14:00:10+00:00\n",
    "Dados dos vídeos:\n",
    "id_video, titulo, dt_publicacao, id_canal, canal, dt_trending, cont_views, likes, dislikes, cont_comentarios, descricao, categoria, \n",
    "\n",
    "\n",
    "\n",
    "Diana Demarchi\n",
    "[Aula 01] 3ª Quarentena da Costura\n",
    "Entertainment\n",
    "Views: 221013\n",
    "Comentarios: 4373\n",
    "Likes: 15645\n",
    "Publicado em 4/11/2020\n",
    "----------------------------------------------\n",
    "Matheus e Kauan\n",
    "Matheus & Kauan - É Problema (Making Of)\n",
    "Music\n",
    "Views: 54683\n",
    "Comentarios: 91\n",
    "Likes: 4023\n",
    "Publicado em 14/11/2020\n",
    "----------------------------------------------\n",
    "A Fazenda\n",
    "Jô, ela sempre falou mal de você, dispara Mateus sobre Lidi | A Fazenda 12\n",
    "Entertainment\n",
    "Views: 518764\n",
    "Comentarios: 8759\n",
    "Likes: 18031\n",
    "Publicado em 25/11/2020\n",
    "----------------------------------------------\n",
    "```"
   ]
  }
 ],
 "metadata": {
  "kernelspec": {
   "display_name": "Python 3",
   "language": "python",
   "name": "python3"
  },
  "language_info": {
   "codemirror_mode": {
    "name": "ipython",
    "version": 3
   },
   "file_extension": ".py",
   "mimetype": "text/x-python",
   "name": "python",
   "nbconvert_exporter": "python",
   "pygments_lexer": "ipython3",
   "version": "3.8.5"
  }
 },
 "nbformat": 4,
 "nbformat_minor": 4
}
