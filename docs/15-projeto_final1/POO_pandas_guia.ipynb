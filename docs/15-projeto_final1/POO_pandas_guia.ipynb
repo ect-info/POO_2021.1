{
 "cells": [
  {
   "cell_type": "code",
   "execution_count": 1,
   "metadata": {},
   "outputs": [],
   "source": [
    "import json\n",
    "import pandas as pd\n",
    "\n",
    "# import numpy as np   \n",
    "# import matplotlib.pyplot as plt\n",
    "# %matplotlib inline\n",
    "# import seaborn as sns\n",
    "# import warnings\n",
    "# warnings.filterwarnings('ignore') # To supress warnings\n",
    "# sns.set(style=\"darkgrid\") # set the background for the graphs\n",
    "# pd.set_option('display.float_format', lambda x: '%.3f' % x)"
   ]
  },
  {
   "cell_type": "code",
   "execution_count": 2,
   "metadata": {},
   "outputs": [
    {
     "name": "stdout",
     "output_type": "stream",
     "text": [
      "{'29': 'Nonprofits & Activism', '1': 'Film & Animation', '2': 'Autos & Vehicles', '10': 'Music', '15': 'Pets & Animals', '17': 'Sports', '18': 'Short Movies', '19': 'Travel & Events', '20': 'Gaming', '21': 'Videoblogging', '22': 'People & Blogs', '23': 'Comedy', '24': 'Entertainment', '25': 'News & Politics', '26': 'Howto & Style', '27': 'Education', '28': 'Science & Technology', '30': 'Movies', '31': 'Anime/Animation', '32': 'Action/Adventure', '33': 'Classics', '34': 'Comedy', '35': 'Documentary', '36': 'Drama', '37': 'Family', '38': 'Foreign', '39': 'Horror', '40': 'Sci-Fi/Fantasy', '41': 'Thriller', '42': 'Shorts', '43': 'Shows', '44': 'Trailers'}\n"
     ]
    }
   ],
   "source": [
    "# obtém categorias dos vídeos a partir de arquivo json\n",
    "# precisamos de \"id\" e \"title\" que são acessíveis por \"items\" e \"snippet\".\"title\"\n",
    "\n",
    "with open(\"BR_category_id.json\") as f:\n",
    "    categories = json.load(f)[\"items\"]\n",
    "\n",
    "cat_dict = {'29': 'Nonprofits & Activism'} # insere categoria que está faltando manualmente\n",
    "category = [['29', 'Nonprofits & Activism']]\n",
    "for cat in categories:\n",
    "    category.append([cat[\"id\"],cat[\"snippet\"][\"title\"]])\n",
    "    cat_dict[cat[\"id\"]] = cat[\"snippet\"][\"title\"]\n",
    "    \n",
    "print(cat_dict)\n",
    "\n",
    "def category_from_id(row):\n",
    "    return cat_dict[str(row['categoryId'])]\n",
    "\n",
    "# constroi Dataframe com o conteúdo das categorias (apenas para exibição)\n",
    "#df_category = pd.DataFrame(category, columns=['categoryId','category']) \n",
    "#df_category"
   ]
  },
  {
   "cell_type": "code",
   "execution_count": 3,
   "metadata": {
    "scrolled": false
   },
   "outputs": [
    {
     "name": "stdout",
     "output_type": "stream",
     "text": [
      "Período: 2020-08-06T10:08:27Z até 2021-08-27T21:00:01Z\n"
     ]
    }
   ],
   "source": [
    "# abre dataframe e mostra informações\n",
    "\n",
    "df = pd.read_csv('BR_youtube_trending_data.csv')\n",
    "print(f'Período: {df.publishedAt.min()} até {df.publishedAt.max()}')\n",
    "#df.head()\n",
    "#df.tail()"
   ]
  },
  {
   "cell_type": "code",
   "execution_count": 4,
   "metadata": {},
   "outputs": [
    {
     "name": "stdout",
     "output_type": "stream",
     "text": [
      "<class 'pandas.core.frame.DataFrame'>\n",
      "RangeIndex: 77593 entries, 0 to 77592\n",
      "Data columns (total 18 columns):\n",
      " #   Column             Non-Null Count  Dtype \n",
      "---  ------             --------------  ----- \n",
      " 0   video_id           77593 non-null  object\n",
      " 1   title              77593 non-null  object\n",
      " 2   publishedAt        77593 non-null  object\n",
      " 3   channelId          77593 non-null  object\n",
      " 4   channelTitle       77593 non-null  object\n",
      " 5   categoryId         77593 non-null  int64 \n",
      " 6   trending_date      77593 non-null  object\n",
      " 7   tags               77593 non-null  object\n",
      " 8   view_count         77593 non-null  int64 \n",
      " 9   likes              77593 non-null  int64 \n",
      " 10  dislikes           77593 non-null  int64 \n",
      " 11  comment_count      77593 non-null  int64 \n",
      " 12  thumbnail_link     77593 non-null  object\n",
      " 13  comments_disabled  77593 non-null  bool  \n",
      " 14  ratings_disabled   77593 non-null  bool  \n",
      " 15  description        75714 non-null  object\n",
      " 16  max_view_count     77593 non-null  int64 \n",
      " 17  category           77593 non-null  object\n",
      "dtypes: bool(2), int64(6), object(10)\n",
      "memory usage: 9.6+ MB\n"
     ]
    }
   ],
   "source": [
    "# Adiciona, remove e renomeia colunas\n",
    "\n",
    "df['max_view_count'] = df.groupby(['video_id'])['view_count'].transform(max)\n",
    "df['category'] = df.apply(category_from_id, axis=1)\n",
    "\n",
    "#df.rename(columns={'comment_count':'commentcount','thumbnail_link':'thumbnaillink'},inplace=True)\n",
    "#df.drop('ratings_disabled',inplace=True,axis=1)\n",
    "\n",
    "df.info()"
   ]
  },
  {
   "cell_type": "code",
   "execution_count": null,
   "metadata": {},
   "outputs": [],
   "source": [
    "# Seleção de colunas\n",
    "\n",
    "#colunas = ['channelId', 'title', 'publishedAt']\n",
    "#df[colunas].head() #mostra apenas colunas da lista\n",
    "\n",
    "#df.filter(regex='chan') #mostra apenas colunas que batem com a regex"
   ]
  },
  {
   "cell_type": "code",
   "execution_count": null,
   "metadata": {},
   "outputs": [],
   "source": [
    "# Seleção de linhas\n",
    "\n",
    "#df.nlargest(10,'view_count') # n= 10\n",
    "#df.nsmallest(10,'view_count')\n",
    "#df.sample(5)\n",
    "#df.iloc[1:5]\n",
    "df.loc[(df.channelTitle=='UOL Esporte')].count()\n",
    "df.loc[(df.channelTitle=='UOL Esporte'),'channelId':'view_count'] # seleciona linhas e colunas\n",
    "df.loc[:,'categoryId'].value_counts()\n",
    "#df.query('video_id==\"-0ZGKFwF1-4\"') #pandas.core.frame.DataFrame\n",
    "#df.loc[(df.video_id=='-0ZGKFwF1-4')] #pandas.core.frame.DataFrame\n",
    "mask = (df.publishedAt.dt.date >= pd.to_datetime('2021-01-01')) & (df.publishedAt.dt.date <= pd.to_datetime('2021-01-31'))\n",
    "df.loc[mask]"
   ]
  },
  {
   "cell_type": "code",
   "execution_count": null,
   "metadata": {},
   "outputs": [],
   "source": [
    "# Agrupamentos e criação de Dataframes a partir de um existente\n",
    "\n",
    "# agrupa por canal e mostra o total de vídeos de cada um\n",
    "#df.groupby(\"channelTitle\").size().reset_index(name=\"video_count\") \\\n",
    "#    .sort_values(\"video_count\", ascending=False).head(20)\n",
    "\n",
    "# agrupa por categoria e aplica uma lista de funções (com nomes informados por strings) a uma coluna do grupo\n",
    "#agg_func_count = {'view_count': ['min', 'max', 'count', 'nunique']}\n",
    "#df.groupby(['category']).agg(agg_func_count)"
   ]
  },
  {
   "cell_type": "markdown",
   "metadata": {},
   "source": [
    "Por período (data início e data fim):\n",
    "- Canais com mais views (gráfico de barras)\n",
    "- Vídeos com mais views (gráfico de barras)\n",
    "- Relação entre views/comentários (scatter)\n",
    "- Relação entre views/likes (scatter)\n",
    "\n",
    "Tabela:\n",
    "- Mostrar tudo (n vídeos)\n",
    "- Listar categorias\n",
    "- Listar canais\n",
    "- Total de vídeos\n",
    "- Mostrar apenas dados da categoria selecionada pelo usuário (radio button)\n",
    "- Mostrar apenas dados do canal inserido pelo usuário\n",
    "- Mostrar apenas dados da categoria/título do vídeo inserido pelo usuário\n",
    "- Ordenar tabela por views de vídeos\n",
    "- Ordenar tabela por likes de vídeos\n",
    "- Ordenar tabela por comments de vídeos\n",
    "- (Mesmo acima, mas por canal)"
   ]
  },
  {
   "cell_type": "code",
   "execution_count": 5,
   "metadata": {},
   "outputs": [],
   "source": [
    "# Modificações no dataset original para adequação ao projeto\n",
    "\n",
    "## altera tipo da coluna (não é salvo no novo arquivo)\n",
    "df.publishedAt = pd.to_datetime(df.publishedAt)\n",
    "df.trending_date = pd.to_datetime(df.trending_date)\n",
    "\n",
    "## constroi dataframe apenas com vídeos únicos (inclui apenas última [max] view_count de cada vídeo)\n",
    "df = df.loc[df.view_count == df.max_view_count]\n",
    "\n",
    "## remove colunas que não serão usadas\n",
    "df.drop('categoryId', inplace=True, axis=1)\n",
    "df.drop('tags', inplace=True, axis=1)\n",
    "df.drop('thumbnail_link', inplace=True, axis=1)\n",
    "df.drop('comments_disabled', inplace=True, axis=1)\n",
    "df.drop('ratings_disabled', inplace=True, axis=1)\n",
    "df.drop('max_view_count', inplace=True, axis=1)\n",
    "\n",
    "## renomeia colunas para o pt-br\n",
    "df.rename(columns={'video_id': 'id_video', 'title': 'titulo',\n",
    "                   'publishedAt': 'dt_publicacao',\n",
    "                   'channelId': 'id_canal',\n",
    "                   'channelTitle': 'canal',\n",
    "                   'trending_date': 'dt_trending',\n",
    "                   'view_count': 'cont_views',\n",
    "                   'comment_count': 'cont_comentarios',\n",
    "                   'description': 'descricao',\n",
    "                   'max_view_count': 'max_cont_views',\n",
    "                   'category': 'categoria'\n",
    "                  }, inplace=True)\n",
    "\n",
    "## cria colunas com ano e mês separados\n",
    "#df['ano_pub'] = df['publishedAt'].dt.year\n",
    "#df['mes_pub'] = df.publishedAt.dt.month\n",
    "#df['dia_pub'] = df.publishedAt.dt.day"
   ]
  },
  {
   "cell_type": "code",
   "execution_count": 6,
   "metadata": {},
   "outputs": [
    {
     "name": "stdout",
     "output_type": "stream",
     "text": [
      "<class 'pandas.core.frame.DataFrame'>\n",
      "Int64Index: 11156 entries, 13 to 77592\n",
      "Data columns (total 12 columns):\n",
      " #   Column            Non-Null Count  Dtype              \n",
      "---  ------            --------------  -----              \n",
      " 0   id_video          11156 non-null  object             \n",
      " 1   titulo            11156 non-null  object             \n",
      " 2   dt_publicacao     11156 non-null  datetime64[ns, UTC]\n",
      " 3   id_canal          11156 non-null  object             \n",
      " 4   canal             11156 non-null  object             \n",
      " 5   dt_trending       11156 non-null  datetime64[ns, UTC]\n",
      " 6   cont_views        11156 non-null  int64              \n",
      " 7   likes             11156 non-null  int64              \n",
      " 8   dislikes          11156 non-null  int64              \n",
      " 9   cont_comentarios  11156 non-null  int64              \n",
      " 10  descricao         10880 non-null  object             \n",
      " 11  categoria         11156 non-null  object             \n",
      "dtypes: datetime64[ns, UTC](2), int64(4), object(6)\n",
      "memory usage: 1.1+ MB\n"
     ]
    }
   ],
   "source": [
    "# Imprime informações e gera dataframes menores para testes\n",
    "\n",
    "df.info()\n",
    "\n",
    "dfsc1 = df.sample(20)\n",
    "dfsc2 = df.sample(20)\n",
    "dfsc3 = df.sample(20)\n",
    "\n",
    "df.to_csv('BR_youtube_trending_data_completo.csv', encoding='utf-8', index=False)\n",
    "#dfsc1.to_csv('BR_youtube_trending_data_p1.csv', encoding='utf-8', index=False)\n",
    "#dfsc2.to_csv('BR_youtube_trending_data_p2.csv', encoding='utf-8', index=False)\n",
    "#dfsc3.to_csv('BR_youtube_trending_data_p3.csv', encoding='utf-8', index=False)\n",
    "\n",
    "#[can for can in zip(df['channelTitle'])]\n",
    "#[row for row in zip(df['channelTitle'], df['title'], df['publishedAt'], df['category'])]"
   ]
  },
  {
   "cell_type": "code",
   "execution_count": null,
   "metadata": {},
   "outputs": [],
   "source": [
    "ex_df = pd.DataFrame({'A' : ['foo', 'bar', 'foo', 'bar','foo', 'bar'],\n",
    "                   'B' : ['one', 'one', 'two', 'three','two', 'two'],\n",
    "                   'C' : [1, 5, 5, 2, 5, 5],\n",
    "                   'D' : [2.0, 5., 8., 1., 2., 9.]})\n",
    "ex_df"
   ]
  },
  {
   "cell_type": "code",
   "execution_count": null,
   "metadata": {},
   "outputs": [],
   "source": [
    "ex_df['total'] = ex_df.groupby(['A'])['C'].transform(sum)\n",
    "#ex_df.groupby('A').apply(print)\n",
    "ex_df"
   ]
  },
  {
   "cell_type": "markdown",
   "metadata": {},
   "source": [
    "# Referências\n",
    "\n",
    "- [Kaggle - YouTube Trending Video Dataset (updated daily)](https://www.kaggle.com/rsrishav/youtube-trending-video-dataset)\n",
    "- [Pandas tutorial and cheat sheet](https://www.kaggle.com/yogidsba/pandas-tutorial-and-cheat-sheet)\n",
    "- [Write a database class in Python](https://stackoverflow.com/questions/37408081/write-a-database-class-in-python/37408275)\n",
    "- [Convert a Pandas DataFrame into a list of objects](https://stackoverflow.com/questions/53192602/convert-a-pandas-dataframe-into-a-list-of-objects)"
   ]
  },
  {
   "cell_type": "code",
   "execution_count": null,
   "metadata": {},
   "outputs": [],
   "source": []
  }
 ],
 "metadata": {
  "kernelspec": {
   "display_name": "Python 3",
   "language": "python",
   "name": "python3"
  },
  "language_info": {
   "codemirror_mode": {
    "name": "ipython",
    "version": 3
   },
   "file_extension": ".py",
   "mimetype": "text/x-python",
   "name": "python",
   "nbconvert_exporter": "python",
   "pygments_lexer": "ipython3",
   "version": "3.8.5"
  }
 },
 "nbformat": 4,
 "nbformat_minor": 4
}
