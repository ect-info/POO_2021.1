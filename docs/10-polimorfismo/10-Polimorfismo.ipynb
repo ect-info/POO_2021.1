{
 "cells": [
  {
   "cell_type": "markdown",
   "metadata": {},
   "source": [
    "# Aula 10 - Polimorfismo\n",
    "\n",
    "Este documento mostra como Python utiliza polimorfismo. Observe que isto é feito muitas vezes de forma que o programador não precisa utilizar nenhum comando/sintaxe específico.\n",
    "\n",
    "## 1. Exemplo: Pessoa/Aluno/Professor\n",
    "\n",
    "Observe o exemplo a seguir e perceba algumas formas de polimorfismo na prática em Python."
   ]
  },
  {
   "cell_type": "code",
   "execution_count": 18,
   "metadata": {},
   "outputs": [
    {
     "name": "stdout",
     "output_type": "stream",
     "text": [
      "True\n",
      "Pessoa('joao', 25)\n",
      "Aluno('hugo', 20, 111)\n",
      "Professor('santos', 40, 'ECT')\n"
     ]
    }
   ],
   "source": [
    "class Pessoa:\n",
    "    def __init__(self, nome, idade):\n",
    "        self.nome = nome\n",
    "        self.idade = idade\n",
    "\n",
    "    def __repr__(self):\n",
    "        return f'Pessoa{self.nome, self.idade}'\n",
    "\n",
    "    def compara_idades(self, p2):\n",
    "        '''Retorna verdadeiro se self for mais novo que p2.'''\n",
    "        return self.idade <= p2.idade\n",
    "    \n",
    "    def cumprimenta(self, p):\n",
    "        '''Cumprimenta um objeto p do tipo Pessoa'''\n",
    "        print(f'Olá {p.nome}, tudo bem ?')\n",
    "\n",
    "class Aluno(Pessoa):\n",
    "    def __init__(self, nome, idade, matricula):\n",
    "        Pessoa.__init__(self, nome, idade)\n",
    "        self.matricula = matricula\n",
    "\n",
    "    def __repr__(self):\n",
    "        return f'Aluno{self.nome, self.idade, self.matricula}'\n",
    "\n",
    "class Professor(Pessoa):\n",
    "    def __init__(self, nome, idade, departamento):\n",
    "        super().__init__(nome, idade)\n",
    "        self.departamento = departamento\n",
    "\n",
    "    def __repr__(self):\n",
    "        return f'Professor{self.nome, self.idade, self.departamento}'\n",
    "    \n",
    "if __name__ == \"__main__\":\n",
    "    p = Pessoa('joao', 25)\n",
    "    a = Aluno('hugo', 20, 111)\n",
    "    prof = Professor('santos', 40, 'ECT')\n",
    "\n",
    "    p1 = Pessoa('maria', 28)\n",
    "    print(p1.compara_idades(prof)) # forma 3: método que recebe objetos derivados de pessoa\n",
    "    \n",
    "    for pess in [p, a, prof]:\n",
    "        print(pess) # executando __repr__ por cada objeto na lista"
   ]
  },
  {
   "cell_type": "markdown",
   "metadata": {},
   "source": [
    "### Princípio de substituição de Liskov\n",
    "\n",
    "Os métodos `compara_idades` e `cumprimenta` da classe base `Pessoa` funciona para qualquer classe derivada de `Pessoa`. Neste ponto, é utilizado o _princípio de substituição de Liskov_.\n",
    "\n",
    "### Métodos polimórficos\n",
    "\n",
    "O método `__repr__` da classe correspondente também é chamado de acordo com o objeto que está sendo passado como parâmetro na chamada ao método `print`."
   ]
  },
  {
   "cell_type": "markdown",
   "metadata": {},
   "source": [
    "## 2. Exemplo: Hierarquia de Animais\n",
    "\n",
    "Observe o bloco `__main__` a seguir. Qual dos métodos `emite_som` deve ser executado ? "
   ]
  },
  {
   "cell_type": "code",
   "execution_count": 11,
   "metadata": {},
   "outputs": [
    {
     "name": "stdout",
     "output_type": "stream",
     "text": [
      "Mamífero nasceu do ventre\n",
      "Mamífero nasceu do ventre\n",
      "Ornitorrinco nasceu do ovo\n",
      "Ave nasceu do ovo\n",
      "Ave nasceu do ovo\n",
      "Ave voou\n",
      "Pinguim não voa\n",
      "Nome da classe: Gato\n",
      "Miau\n",
      "Animal morreu\n",
      "Nome da classe: Cachorro\n",
      "Au\n",
      "Animal morreu\n",
      "Nome da classe: Ornitorrinco\n",
      "Prprpr\n",
      "Animal morreu\n",
      "Nome da classe: Pinguim\n",
      "Quack\n",
      "Animal morreu\n",
      "Nome da classe: Aguia\n",
      "In\n",
      "Animal morreu\n"
     ]
    }
   ],
   "source": [
    "from abc import ABC, abstractmethod\n",
    "\n",
    "class Animal(ABC):\n",
    "    '''Classe abstrata'''\n",
    "    def __init__(self):\n",
    "        self.nasce()\n",
    "\n",
    "    @abstractmethod\n",
    "    def nasce(self):\n",
    "        pass\n",
    "\n",
    "    def morre(self):\n",
    "        print('Animal morreu')\n",
    "\n",
    "    @abstractmethod\n",
    "    def emite_som(self):\n",
    "        pass\n",
    "\n",
    "class Mamifero(Animal):\n",
    "    '''Abstrata: não implementa o método emite_som'''\n",
    "    \n",
    "    def amamenta(self):\n",
    "        print('Mamífero amamentou')\n",
    "        \n",
    "    def nasce(self):\n",
    "        print('Mamífero nasceu do ventre')\n",
    "\n",
    "class Ave(Animal):\n",
    "    '''Abstrata: não implementa o método emite_som'''\n",
    "    \n",
    "    def voa(self):\n",
    "        print('Ave voou')\n",
    "        \n",
    "    def nasce(self):\n",
    "        print('Ave nasceu do ovo')\n",
    "\n",
    "class Gato(Mamifero):\n",
    "    \n",
    "    def emite_som(self):\n",
    "        print('Miau')\n",
    "\n",
    "class Cachorro(Mamifero):\n",
    "    \n",
    "    def emite_som(self):\n",
    "        print('Au')\n",
    "\n",
    "class Ornitorrinco(Mamifero):\n",
    "    \n",
    "    def emite_som(self):\n",
    "        print('Prprpr')\n",
    "        \n",
    "    def nasce(self):\n",
    "        print('Ornitorrinco nasceu do ovo')\n",
    "\n",
    "class Pinguim(Ave):\n",
    "    \n",
    "    def emite_som(self):\n",
    "        print('Quack')\n",
    "        \n",
    "    def voa(self):\n",
    "        print('Pinguim não voa')\n",
    "\n",
    "class Aguia(Ave):\n",
    "    \n",
    "    def emite_som(self):\n",
    "        print('In')\n",
    "\n",
    "if __name__ == \"__main__\":\n",
    "    g = Gato()\n",
    "    c = Cachorro()\n",
    "    o = Ornitorrinco()\n",
    "    p = Pinguim()\n",
    "    a = Aguia()\n",
    "    a.voa()\n",
    "    p.voa()\n",
    "    animais = [g,c,o,p,a]\n",
    "\n",
    "    for a in animais:\n",
    "        print(f'Nome da classe: {a.__class__.__name__}') # So para testar, imprimimos o nome da classe\n",
    "        a.emite_som()\n",
    "        a.morre()\n"
   ]
  },
  {
   "cell_type": "markdown",
   "metadata": {},
   "source": [
    "Para responder a esta pergunta, utilize as regras:\n",
    "\n",
    " - A variável `a` (no laço `for`) é acessada e o objeto armazenado é encontrado\n",
    " - A classe de `a` é encontrada\n",
    " - A implementação do método é encontrada e executada\n",
    " - Se a classe de  `a` não tiver uma implementação do método, o método é buscado na superclasse\n",
    " \n",
    " Por exemplo:"
   ]
  },
  {
   "cell_type": "code",
   "execution_count": null,
   "metadata": {},
   "outputs": [],
   "source": [
    "aguia = Aguia()\n",
    "ping = Pinguim()\n",
    "ping.voa() # método da classe Pinguim\n",
    "aguia.voa() # método da superclasse (Ave)\n",
    "aguia.morre() # método da classe Animal"
   ]
  },
  {
   "cell_type": "markdown",
   "metadata": {},
   "source": [
    "## 3. *Duck Typing*\n",
    "\n",
    "*Quando eu vejo um pássaro que anda como pato, nada como um pato\n",
    "e grasna como pato, então pra mim este pássaro é um pato*\n",
    "\n",
    "Sendo Python uma linguagem de tipagem dinâmica, um método/função pode ser utilizado por qualquer objeto que implemente certo comportamento (sem ser parte de uma hierarquia de herança).\n",
    "\n",
    "Observe isto no exemplo a seguir, onde as classes A, B e C não possuem relação entre si. Mesmo assim, algumas delas podem ser utilizadas na função `trabalha`, porque implementam o método `fazAlgo`."
   ]
  },
  {
   "cell_type": "code",
   "execution_count": 19,
   "metadata": {
    "scrolled": true
   },
   "outputs": [
    {
     "name": "stdout",
     "output_type": "stream",
     "text": [
      "Trabalhando em A\n",
      "Trabalhando em B\n"
     ]
    }
   ],
   "source": [
    "class A:\n",
    "    def fazAlgo(self):\n",
    "        return 'Trabalhando em A'\n",
    "\n",
    "class B:\n",
    "    def fazAlgo(self):\n",
    "        return 'Trabalhando em B'\n",
    "class C:\n",
    "    pass\n",
    "\n",
    "# Note que as classes não pertencem à mesma hierarquia (não existem relações de herança entre elas)\n",
    "def trabalha(x):\n",
    "    '''x deve ser um objeto que implementa o método fazAlgo'''\n",
    "    print(x.fazAlgo())\n",
    "\n",
    "if __name__ == '__main__':\n",
    "    a = A()\n",
    "    b = B()\n",
    "    c = C()\n",
    "    trabalha(a)\n",
    "    trabalha(b)\n",
    "    #trabalha(c) #Erro! a classe C não implementa o método fazAlgo    "
   ]
  },
  {
   "cell_type": "markdown",
   "metadata": {},
   "source": [
    "## 4. Sobrecarga de Operadores\n",
    "\n",
    "Uma vez que os operadores `+`, `-`, `*`, `/`, `==`, `!=`, etc. quando utilizados em expressões chamam método mágicos em Python, pode-se dizer que estes métodos mágicos são também polimórficos.\n",
    "\n",
    "Ou seja, o operador `+`, por exemplo, se comporta de uma forma para a classe `int` e de outra forma para a classe `str`."
   ]
  },
  {
   "cell_type": "markdown",
   "metadata": {},
   "source": [
    "## Prática 2.3: em breve"
   ]
  },
  {
   "cell_type": "markdown",
   "metadata": {},
   "source": [
    "## Exercícios de Fixação\n",
    "\n",
    "1. Considerando as classes `Pessoa`, `Aluno`, e `Professor`\n",
    "   dos exemplos desta aula, implemente um método estático que receba\n",
    "   como parâmetro uma lista de pessoas. O método deve calcular\n",
    "   a média de idade das pessoas na lista.\n",
    "\n",
    "2. Considerando a hierarquia de animais desta aula:\n",
    "\n",
    "- Implemente o método abstrato `pode_voar` (que deve retornar    \n",
    "  `True/False`) na classe `Ave`.\n",
    "- Implemente na classe `Ave` um método de classe que recebe como   \n",
    "  parâmetro uma lista de aves `L` e retorna uma sublista de  `L` com \n",
    "  as aves que podem voar.\n",
    "- Adicione um atributo e propriedade `peso` na classe `Animal`.\n",
    "- Implemente um método de classe que retorne a média dos pesos de uma \n",
    "  lista de animais. "
   ]
  }
 ],
 "metadata": {
  "kernelspec": {
   "display_name": "Python 3",
   "language": "python",
   "name": "python3"
  },
  "language_info": {
   "codemirror_mode": {
    "name": "ipython",
    "version": 3
   },
   "file_extension": ".py",
   "mimetype": "text/x-python",
   "name": "python",
   "nbconvert_exporter": "python",
   "pygments_lexer": "ipython3",
   "version": "3.8.5"
  }
 },
 "nbformat": 4,
 "nbformat_minor": 4
}
